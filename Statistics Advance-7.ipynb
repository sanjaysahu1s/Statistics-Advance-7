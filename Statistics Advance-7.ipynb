{
 "cells": [
  {
   "cell_type": "markdown",
   "id": "847adbb7-db76-4977-981e-bb4bb638709c",
   "metadata": {},
   "source": [
    "Q1. Write a Python function that takes in two arrays of data and calculates the F-value for a variance ratio\n",
    "test. The function should return the F-value and the corresponding p-value for the test."
   ]
  },
  {
   "cell_type": "code",
   "execution_count": 2,
   "id": "409096fc-dbde-4f36-802a-d4f65112c412",
   "metadata": {},
   "outputs": [
    {
     "name": "stdout",
     "output_type": "stream",
     "text": [
      "F-value: 0.25\n",
      "p-value: 0.896\n"
     ]
    }
   ],
   "source": [
    "#Answer\n",
    "\n",
    "import numpy as np\n",
    "from scipy.stats import f\n",
    "\n",
    "def calculate_f_value(data1, data2):\n",
    "    \"\"\"\n",
    "    Calculate the F-value and p-value for a variance ratio test.\n",
    "\n",
    "    Args:\n",
    "        data1: First array of data.\n",
    "        data2: Second array of data.\n",
    "\n",
    "    Returns:\n",
    "        f_value: F-value for the variance ratio test.\n",
    "        p_value: p-value for the variance ratio test.\n",
    "    \"\"\"\n",
    "    # Compute variances\n",
    "    var1 = np.var(data1, ddof=1)  # ddof=1 for unbiased estimation\n",
    "    var2 = np.var(data2, ddof=1)\n",
    "\n",
    "    # Compute F-value\n",
    "    f_value = var1 / var2\n",
    "\n",
    "    # Compute degrees of freedom\n",
    "    df1 = len(data1) - 1\n",
    "    df2 = len(data2) - 1\n",
    "\n",
    "    # Compute p-value\n",
    "    p_value = f.sf(f_value, df1, df2)\n",
    "\n",
    "    return f_value, p_value\n",
    "\n",
    "data1 = [1, 2, 3, 4, 5]\n",
    "data2 = [2, 4, 6, 8, 10]\n",
    "f_value, p_value = calculate_f_value(data1, data2)\n",
    "print(f\"F-value: {f_value}\")\n",
    "print(f\"p-value: {p_value}\")\n"
   ]
  },
  {
   "cell_type": "markdown",
   "id": "d768ab2e-88b4-43b3-a1dd-6c72edbb4923",
   "metadata": {},
   "source": [
    "                      -------------------------------------------------------------------"
   ]
  },
  {
   "cell_type": "markdown",
   "id": "491180f2-5135-481c-9aa5-c7f7f6e92a5f",
   "metadata": {},
   "source": [
    "Q2. Given a significance level of 0.05 and the degrees of freedom for the numerator and denominator of an\n",
    "F-distribution, write a Python function that returns the critical F-value for a two-tailed test."
   ]
  },
  {
   "cell_type": "code",
   "execution_count": 3,
   "id": "24d410b2-72ce-40fe-a526-c24b1326592d",
   "metadata": {},
   "outputs": [
    {
     "name": "stdout",
     "output_type": "stream",
     "text": [
      "Critical F-value: 3.8586986662732143\n"
     ]
    }
   ],
   "source": [
    "#Answer\n",
    "\n",
    "from scipy.stats import f\n",
    "\n",
    "def calculate_critical_f_value(alpha, df1, df2):\n",
    "    \"\"\"\n",
    "    Calculate the critical F-value for a two-tailed test given a significance level (alpha)\n",
    "    and the degrees of freedom for the numerator (df1) and denominator (df2) of an F-distribution.\n",
    "\n",
    "    Args:\n",
    "        alpha: Significance level.\n",
    "        df1: Degrees of freedom for the numerator.\n",
    "        df2: Degrees of freedom for the denominator.\n",
    "\n",
    "    Returns:\n",
    "        critical_f_value: Critical F-value for the two-tailed test.\n",
    "    \"\"\"\n",
    "    # Calculate quantiles for the F-distribution\n",
    "    q1 = f.ppf(alpha / 2, df1, df2)\n",
    "    q2 = f.ppf(1 - alpha / 2, df1, df2)\n",
    "\n",
    "    # Use the larger quantile as the critical F-value for a two-tailed test\n",
    "    critical_f_value = max(abs(q1), abs(q2))\n",
    "\n",
    "    return critical_f_value\n",
    "\n",
    "\n",
    "alpha = 0.05\n",
    "df1 = 3\n",
    "df2 = 20\n",
    "critical_f_value = calculate_critical_f_value(alpha, df1, df2)\n",
    "print(f\"Critical F-value: {critical_f_value}\")\n",
    "\n"
   ]
  },
  {
   "cell_type": "markdown",
   "id": "61e7fe27-1fe2-442b-9990-ddf2b4958328",
   "metadata": {},
   "source": [
    "                      -------------------------------------------------------------------"
   ]
  },
  {
   "cell_type": "markdown",
   "id": "6acec684-dfcf-48b9-919d-91939ae4fe94",
   "metadata": {},
   "source": [
    "Q3. Write a Python program that generates random samples from two normal distributions with known\n",
    "\n",
    "variances and uses an F-test to determine if the variances are equal. The program should output the F-\n",
    "value, degrees of freedom, and p-value for the test."
   ]
  },
  {
   "cell_type": "code",
   "execution_count": 4,
   "id": "8542b743-7905-4541-b916-c614a7760820",
   "metadata": {},
   "outputs": [
    {
     "name": "stdout",
     "output_type": "stream",
     "text": [
      "F-value: 0.6012144036915856\n",
      "Degrees of freedom (numerator): 99\n",
      "Degrees of freedom (denominator): 99\n",
      "p-value: 0.9939889264808207\n"
     ]
    }
   ],
   "source": [
    "#Answer\n",
    "\n",
    "import numpy as np\n",
    "from scipy.stats import f\n",
    "\n",
    "def perform_f_test(data1, data2):\n",
    "    \"\"\"\n",
    "    Perform an F-test to determine if the variances of two normal distributions are equal.\n",
    "\n",
    "    Args:\n",
    "        data1: Array of data from the first normal distribution.\n",
    "        data2: Array of data from the second normal distribution.\n",
    "\n",
    "    Returns:\n",
    "        f_value: F-value for the F-test.\n",
    "        df1: Degrees of freedom for the numerator.\n",
    "        df2: Degrees of freedom for the denominator.\n",
    "        p_value: p-value for the F-test.\n",
    "    \"\"\"\n",
    "    # Compute variances\n",
    "    var1 = np.var(data1, ddof=1)  # ddof=1 for unbiased estimation\n",
    "    var2 = np.var(data2, ddof=1)\n",
    "\n",
    "    # Compute F-value\n",
    "    f_value = var1 / var2\n",
    "\n",
    "    # Compute degrees of freedom\n",
    "    df1 = len(data1) - 1\n",
    "    df2 = len(data2) - 1\n",
    "\n",
    "    # Compute p-value\n",
    "    p_value = f.sf(f_value, df1, df2)\n",
    "\n",
    "    return f_value, df1, df2, p_value\n",
    "\n",
    "# Generate random samples from two normal distributions\n",
    "np.random.seed(123)  # for reproducibility\n",
    "sample1 = np.random.normal(loc=0, scale=1, size=100)\n",
    "sample2 = np.random.normal(loc=0, scale=1.5, size=100)\n",
    "\n",
    "# Perform F-test\n",
    "f_value, df1, df2, p_value = perform_f_test(sample1, sample2)\n",
    "\n",
    "# Print the results\n",
    "print(f\"F-value: {f_value}\")\n",
    "print(f\"Degrees of freedom (numerator): {df1}\")\n",
    "print(f\"Degrees of freedom (denominator): {df2}\")\n",
    "print(f\"p-value: {p_value}\")\n"
   ]
  },
  {
   "cell_type": "markdown",
   "id": "ab68aa9b-06e7-48ba-9454-ab662e3c7fc2",
   "metadata": {},
   "source": [
    "                      -------------------------------------------------------------------"
   ]
  },
  {
   "cell_type": "markdown",
   "id": "603d8454-0f91-4c58-9047-9330eaa2c9b0",
   "metadata": {},
   "source": [
    "Q4.The variances of two populations are known to be 10 and 15. A sample of 12 observations is taken from\n",
    "each population. Conduct an F-test at the 5% significance level to determine if the variances are\n",
    "significantly different."
   ]
  },
  {
   "cell_type": "code",
   "execution_count": 5,
   "id": "d01c6029-65e5-4fe4-aa1a-cd5c9feb57f6",
   "metadata": {},
   "outputs": [
    {
     "name": "stdout",
     "output_type": "stream",
     "text": [
      "F-value: 0.6666666666666666\n",
      "Degrees of freedom (numerator): 11\n",
      "Degrees of freedom (denominator): 11\n",
      "p-value: 0.7438051006321003\n",
      "Fail to reject the null hypothesis. There is no significant difference in variances.\n"
     ]
    }
   ],
   "source": [
    "#Answer\n",
    "\n",
    "from scipy.stats import f\n",
    "\n",
    "def conduct_f_test(s1_squared, s2_squared, n1, n2, alpha):\n",
    "    \"\"\"\n",
    "    Conducts an F-test to determine if the variances of two populations are significantly different.\n",
    "\n",
    "    Args:\n",
    "        s1_squared: Sample variance of population 1.\n",
    "        s2_squared: Sample variance of population 2.\n",
    "        n1: Sample size of population 1.\n",
    "        n2: Sample size of population 2.\n",
    "        alpha: Significance level.\n",
    "\n",
    "    Returns:\n",
    "        f_value: F-value for the F-test.\n",
    "        df1: Degrees of freedom for the numerator.\n",
    "        df2: Degrees of freedom for the denominator.\n",
    "        p_value: p-value for the F-test.\n",
    "    \"\"\"\n",
    "    # Compute F-value\n",
    "    f_value = s1_squared / s2_squared\n",
    "\n",
    "    # Compute degrees of freedom\n",
    "    df1 = n1 - 1\n",
    "    df2 = n2 - 1\n",
    "\n",
    "    # Compute p-value\n",
    "    p_value = f.sf(f_value, df1, df2)\n",
    "\n",
    "    return f_value, df1, df2, p_value\n",
    "\n",
    "# Given information\n",
    "s1_squared = 10\n",
    "s2_squared = 15\n",
    "n1 = 12\n",
    "n2 = 12\n",
    "alpha = 0.05\n",
    "\n",
    "# Conduct F-test\n",
    "f_value, df1, df2, p_value = conduct_f_test(s1_squared, s2_squared, n1, n2, alpha)\n",
    "\n",
    "# Print the results\n",
    "print(f\"F-value: {f_value}\")\n",
    "print(f\"Degrees of freedom (numerator): {df1}\")\n",
    "print(f\"Degrees of freedom (denominator): {df2}\")\n",
    "print(f\"p-value: {p_value}\")\n",
    "\n",
    "# Compare p-value to alpha\n",
    "if p_value < alpha:\n",
    "    print(\"Reject the null hypothesis. The variances are significantly different.\")\n",
    "else:\n",
    "    print(\"Fail to reject the null hypothesis. There is no significant difference in variances.\")\n"
   ]
  },
  {
   "cell_type": "markdown",
   "id": "cefbaf43-6ff9-49ad-b189-2a56c6f188e8",
   "metadata": {},
   "source": [
    "                      -------------------------------------------------------------------"
   ]
  },
  {
   "cell_type": "markdown",
   "id": "d83dbde1-120b-428e-9820-73b17987c381",
   "metadata": {},
   "source": [
    "Q5. A manufacturer claims that the variance of the diameter of a certain product is 0.005. A sample of 25\n",
    "products is taken, and the sample variance is found to be 0.006. Conduct an F-test at the 1% significance\n",
    "level to determine if the claim is justified."
   ]
  },
  {
   "cell_type": "code",
   "execution_count": 6,
   "id": "c67726a7-8ae8-46db-b04c-93fda859241d",
   "metadata": {},
   "outputs": [
    {
     "name": "stdout",
     "output_type": "stream",
     "text": [
      "F-value: 1.2\n",
      "Degrees of freedom (numerator): 24\n",
      "Degrees of freedom (denominator): 1\n",
      "p-value: 0.629609961995936\n",
      "Fail to reject the null hypothesis. There is insufficient evidence to refute the claim.\n"
     ]
    }
   ],
   "source": [
    "#Answer\n",
    "\n",
    "from scipy.stats import f\n",
    "\n",
    "def conduct_f_test(sample_variance, claimed_variance, sample_size, alpha):\n",
    "    \"\"\"\n",
    "    Conducts an F-test to determine if the claimed variance is justified.\n",
    "\n",
    "    Args:\n",
    "        sample_variance: Sample variance.\n",
    "        claimed_variance: Claimed population variance.\n",
    "        sample_size: Sample size.\n",
    "        alpha: Significance level.\n",
    "\n",
    "    Returns:\n",
    "        f_value: F-value for the F-test.\n",
    "        df1: Degrees of freedom for the numerator.\n",
    "        df2: Degrees of freedom for the denominator.\n",
    "        p_value: p-value for the F-test.\n",
    "    \"\"\"\n",
    "    # Compute F-value\n",
    "    f_value = sample_variance / claimed_variance\n",
    "\n",
    "    # Compute degrees of freedom\n",
    "    df1 = sample_size - 1\n",
    "    df2 = 1\n",
    "\n",
    "    # Compute p-value\n",
    "    p_value = f.sf(f_value, df1, df2)\n",
    "\n",
    "    return f_value, df1, df2, p_value\n",
    "\n",
    "# Given information\n",
    "sample_variance = 0.006\n",
    "claimed_variance = 0.005\n",
    "sample_size = 25\n",
    "alpha = 0.01\n",
    "\n",
    "# Conduct F-test\n",
    "f_value, df1, df2, p_value = conduct_f_test(sample_variance, claimed_variance, sample_size, alpha)\n",
    "\n",
    "# Print the results\n",
    "print(f\"F-value: {f_value}\")\n",
    "print(f\"Degrees of freedom (numerator): {df1}\")\n",
    "print(f\"Degrees of freedom (denominator): {df2}\")\n",
    "print(f\"p-value: {p_value}\")\n",
    "\n",
    "# Compare p-value to alpha\n",
    "if p_value < alpha:\n",
    "    print(\"Reject the null hypothesis. The claim is not justified.\")\n",
    "else:\n",
    "    print(\"Fail to reject the null hypothesis. There is insufficient evidence to refute the claim.\")\n"
   ]
  },
  {
   "cell_type": "markdown",
   "id": "4bd56842-96dd-463e-9a53-abe5f7acc2c6",
   "metadata": {},
   "source": [
    "                       -------------------------------------------------------------------"
   ]
  },
  {
   "cell_type": "markdown",
   "id": "e5cfcd8a-e250-42a7-8424-c3a5f8fe7a69",
   "metadata": {},
   "source": [
    "Q6. Write a Python function that takes in the degrees of freedom for the numerator and denominator of an\n",
    "F-distribution and calculates the mean and variance of the distribution. The function should return the\n",
    "mean and variance as a tuple."
   ]
  },
  {
   "cell_type": "code",
   "execution_count": 8,
   "id": "d9d7c484-8c05-47e5-9af8-c3435459280f",
   "metadata": {},
   "outputs": [
    {
     "name": "stdout",
     "output_type": "stream",
     "text": [
      "Mean: 1.3333333333333333\n",
      "Variance: 1.9555555555555555\n"
     ]
    }
   ],
   "source": [
    "#Answer\n",
    "\n",
    "def calculate_f_distribution_mean_and_variance(df1, df2):\n",
    "    \"\"\"\n",
    "    Calculate the mean and variance of an F-distribution given the degrees of freedom for the numerator and denominator.\n",
    "\n",
    "    Args:\n",
    "        df1: Degrees of freedom for the numerator.\n",
    "        df2: Degrees of freedom for the denominator.\n",
    "\n",
    "    Returns:\n",
    "        mean: Mean of the F-distribution.\n",
    "        variance: Variance of the F-distribution.\n",
    "    \"\"\"\n",
    "    # Check for valid degrees of freedom\n",
    "    if df1 <= 0 or df2 <= 0:\n",
    "        raise ValueError(\"Degrees of freedom must be positive.\")\n",
    "\n",
    "    # Calculate mean and variance\n",
    "    if df2 > 2:\n",
    "        mean = df2 / (df2 - 2)\n",
    "        variance = (2 * df2**2 * (df1 + df2 - 2)) / (df1 * (df2 - 2)**2 * (df2 - 4))\n",
    "    else:\n",
    "        mean = float(\"inf\")\n",
    "        variance = float(\"inf\")\n",
    "\n",
    "    return mean, variance\n",
    "\n",
    "\n",
    "df1 = 5\n",
    "df2 = 8\n",
    "mean, variance = calculate_f_distribution_mean_and_variance(df1, df2)\n",
    "print(f\"Mean: {mean}\")\n",
    "print(f\"Variance: {variance}\")\n",
    "\n"
   ]
  },
  {
   "cell_type": "markdown",
   "id": "c195c9bd-aba6-49ad-a195-6b541eb54fb2",
   "metadata": {},
   "source": [
    "                        -------------------------------------------------------------------"
   ]
  },
  {
   "cell_type": "markdown",
   "id": "396f5010-8426-42d8-88ce-318675d1395c",
   "metadata": {},
   "source": [
    "Q7. A random sample of 10 measurements is taken from a normal population with unknown variance. The\n",
    "sample variance is found to be 25. Another random sample of 15 measurements is taken from another\n",
    "normal population with unknown variance, and the sample variance is found to be 20. Conduct an F-test\n",
    "at the 10% significance level to determine if the variances are significantly different."
   ]
  },
  {
   "cell_type": "code",
   "execution_count": 9,
   "id": "a68ab650-4f44-4dbd-9849-fb0d32099408",
   "metadata": {},
   "outputs": [
    {
     "name": "stdout",
     "output_type": "stream",
     "text": [
      "F-value: 1.25\n",
      "Degrees of freedom (numerator): 9\n",
      "Degrees of freedom (denominator): 14\n",
      "p-value: 0.34160971912929744\n",
      "Fail to reject the null hypothesis. There is no significant difference in variances.\n"
     ]
    }
   ],
   "source": [
    "#Answer\n",
    "\n",
    "from scipy.stats import f\n",
    "\n",
    "def conduct_f_test(sample_variance1, sample_variance2, sample_size1, sample_size2, alpha):\n",
    "    \"\"\"\n",
    "    Conducts an F-test to determine if the variances of two populations are significantly different.\n",
    "\n",
    "    Args:\n",
    "        sample_variance1: Sample variance of population 1.\n",
    "        sample_variance2: Sample variance of population 2.\n",
    "        sample_size1: Sample size of population 1.\n",
    "        sample_size2: Sample size of population 2.\n",
    "        alpha: Significance level.\n",
    "\n",
    "    Returns:\n",
    "        f_value: F-value for the F-test.\n",
    "        df1: Degrees of freedom for the numerator.\n",
    "        df2: Degrees of freedom for the denominator.\n",
    "        p_value: p-value for the F-test.\n",
    "    \"\"\"\n",
    "    # Compute F-value\n",
    "    f_value = sample_variance1 / sample_variance2\n",
    "\n",
    "    # Compute degrees of freedom\n",
    "    df1 = sample_size1 - 1\n",
    "    df2 = sample_size2 - 1\n",
    "\n",
    "    # Compute p-value\n",
    "    p_value = f.sf(f_value, df1, df2)\n",
    "\n",
    "    return f_value, df1, df2, p_value\n",
    "\n",
    "# Given information\n",
    "sample_variance1 = 25\n",
    "sample_variance2 = 20\n",
    "sample_size1 = 10\n",
    "sample_size2 = 15\n",
    "alpha = 0.10\n",
    "\n",
    "# Conduct F-test\n",
    "f_value, df1, df2, p_value = conduct_f_test(sample_variance1, sample_variance2, sample_size1, sample_size2, alpha)\n",
    "\n",
    "# Print the results\n",
    "print(f\"F-value: {f_value}\")\n",
    "print(f\"Degrees of freedom (numerator): {df1}\")\n",
    "print(f\"Degrees of freedom (denominator): {df2}\")\n",
    "print(f\"p-value: {p_value}\")\n",
    "\n",
    "# Compare p-value to alpha\n",
    "if p_value < alpha:\n",
    "    print(\"Reject the null hypothesis. The variances are significantly different.\")\n",
    "else:\n",
    "    print(\"Fail to reject the null hypothesis. There is no significant difference in variances.\")\n"
   ]
  },
  {
   "cell_type": "markdown",
   "id": "80a3b616-2f74-4a73-88b6-1f04edafdd88",
   "metadata": {},
   "source": [
    "                        -------------------------------------------------------------------"
   ]
  },
  {
   "cell_type": "markdown",
   "id": "0c06e381-01a3-4462-922f-7719d66e0324",
   "metadata": {},
   "source": [
    "Q8. The following data represent the waiting times in minutes at two different restaurants on a Saturday\n",
    "night: Restaurant A: 24, 25, 28, 23, 22, 20, 27; Restaurant B: 31, 33, 35, 30, 32, 36. Conduct an F-test at the 5%\n",
    "significance level to determine if the variances are significantly different."
   ]
  },
  {
   "cell_type": "code",
   "execution_count": 10,
   "id": "6592b093-a50c-41fa-964b-b15b01117152",
   "metadata": {},
   "outputs": [
    {
     "name": "stdout",
     "output_type": "stream",
     "text": [
      "F-value: 1.4551907719609583\n",
      "Degrees of freedom (numerator): 6\n",
      "Degrees of freedom (denominator): 5\n",
      "p-value: 0.34874078739687414\n",
      "Fail to reject the null hypothesis. There is no significant difference in variances.\n"
     ]
    }
   ],
   "source": [
    "#Answer\n",
    "\n",
    "import numpy as np\n",
    "from scipy.stats import f\n",
    "\n",
    "def conduct_f_test(data1, data2, alpha):\n",
    "    \"\"\"\n",
    "    Conducts an F-test to determine if the variances of two samples are significantly different.\n",
    "\n",
    "    Args:\n",
    "        data1: Array of data for sample 1.\n",
    "        data2: Array of data for sample 2.\n",
    "        alpha: Significance level.\n",
    "\n",
    "    Returns:\n",
    "        f_value: F-value for the F-test.\n",
    "        df1: Degrees of freedom for the numerator.\n",
    "        df2: Degrees of freedom for the denominator.\n",
    "        p_value: p-value for the F-test.\n",
    "    \"\"\"\n",
    "    # Calculate sample variances\n",
    "    var1 = np.var(data1, ddof=1)\n",
    "    var2 = np.var(data2, ddof=1)\n",
    "\n",
    "    # Compute F-value\n",
    "    f_value = var1 / var2\n",
    "\n",
    "    # Compute degrees of freedom\n",
    "    df1 = len(data1) - 1\n",
    "    df2 = len(data2) - 1\n",
    "\n",
    "    # Compute p-value\n",
    "    p_value = f.sf(f_value, df1, df2)\n",
    "\n",
    "    return f_value, df1, df2, p_value\n",
    "\n",
    "# Given data\n",
    "data1 = [24, 25, 28, 23, 22, 20, 27]\n",
    "data2 = [31, 33, 35, 30, 32, 36]\n",
    "alpha = 0.05\n",
    "\n",
    "# Conduct F-test\n",
    "f_value, df1, df2, p_value = conduct_f_test(data1, data2, alpha)\n",
    "\n",
    "# Print the results\n",
    "print(f\"F-value: {f_value}\")\n",
    "print(f\"Degrees of freedom (numerator): {df1}\")\n",
    "print(f\"Degrees of freedom (denominator): {df2}\")\n",
    "print(f\"p-value: {p_value}\")\n",
    "\n",
    "# Compare p-value to alpha\n",
    "if p_value < alpha:\n",
    "    print(\"Reject the null hypothesis. The variances are significantly different.\")\n",
    "else:\n",
    "    print(\"Fail to reject the null hypothesis. There is no significant difference in variances.\")\n"
   ]
  },
  {
   "cell_type": "markdown",
   "id": "8bf10c1f-245e-40f7-bc2c-e086a92eea91",
   "metadata": {},
   "source": [
    "                        -------------------------------------------------------------------"
   ]
  },
  {
   "cell_type": "markdown",
   "id": "f599fcf3-4f03-4f97-8faa-89201bd76dac",
   "metadata": {},
   "source": [
    "Q9. The following data represent the test scores of two groups of students: Group A: 80, 85, 90, 92, 87, 83;\n",
    "Group B: 75, 78, 82, 79, 81, 84. Conduct an F-test at the 1% significance level to determine if the variances\n",
    "are significantly different."
   ]
  },
  {
   "cell_type": "code",
   "execution_count": 11,
   "id": "34812e4a-1cb4-4480-9f7f-1cc28d8c9a6a",
   "metadata": {},
   "outputs": [
    {
     "name": "stdout",
     "output_type": "stream",
     "text": [
      "F-value: 1.9442622950819677\n",
      "Degrees of freedom (numerator): 5\n",
      "Degrees of freedom (denominator): 5\n",
      "p-value: 0.2415521774535344\n",
      "Fail to reject the null hypothesis. There is no significant difference in variances.\n"
     ]
    }
   ],
   "source": [
    "#Answer\n",
    "\n",
    "import numpy as np\n",
    "from scipy.stats import f\n",
    "\n",
    "def conduct_f_test(data1, data2, alpha):\n",
    "    \"\"\"\n",
    "    Conducts an F-test to determine if the variances of two samples are significantly different.\n",
    "\n",
    "    Args:\n",
    "        data1: Array of data for sample 1.\n",
    "        data2: Array of data for sample 2.\n",
    "        alpha: Significance level.\n",
    "\n",
    "    Returns:\n",
    "        f_value: F-value for the F-test.\n",
    "        df1: Degrees of freedom for the numerator.\n",
    "        df2: Degrees of freedom for the denominator.\n",
    "        p_value: p-value for the F-test.\n",
    "    \"\"\"\n",
    "    # Calculate sample variances\n",
    "    var1 = np.var(data1, ddof=1)\n",
    "    var2 = np.var(data2, ddof=1)\n",
    "\n",
    "    # Compute F-value\n",
    "    f_value = var1 / var2\n",
    "\n",
    "    # Compute degrees of freedom\n",
    "    df1 = len(data1) - 1\n",
    "    df2 = len(data2) - 1\n",
    "\n",
    "    # Compute p-value\n",
    "    p_value = f.sf(f_value, df1, df2)\n",
    "\n",
    "    return f_value, df1, df2, p_value\n",
    "\n",
    "# Given data\n",
    "data1 = [80, 85, 90, 92, 87, 83]\n",
    "data2 = [75, 78, 82, 79, 81, 84]\n",
    "alpha = 0.01\n",
    "\n",
    "# Conduct F-test\n",
    "f_value, df1, df2, p_value = conduct_f_test(data1, data2, alpha)\n",
    "\n",
    "# Print the results\n",
    "print(f\"F-value: {f_value}\")\n",
    "print(f\"Degrees of freedom (numerator): {df1}\")\n",
    "print(f\"Degrees of freedom (denominator): {df2}\")\n",
    "print(f\"p-value: {p_value}\")\n",
    "\n",
    "# Compare p-value to alpha\n",
    "if p_value < alpha:\n",
    "    print(\"Reject the null hypothesis. The variances are significantly different.\")\n",
    "else:\n",
    "    print(\"Fail to reject the null hypothesis. There is no significant difference in variances.\")\n"
   ]
  },
  {
   "cell_type": "markdown",
   "id": "1a7f3d9c-e193-4f33-bc16-1497481e05a2",
   "metadata": {},
   "source": [
    "                        -------------------------------------------------------------------"
   ]
  }
 ],
 "metadata": {
  "kernelspec": {
   "display_name": "Python 3 (ipykernel)",
   "language": "python",
   "name": "python3"
  },
  "language_info": {
   "codemirror_mode": {
    "name": "ipython",
    "version": 3
   },
   "file_extension": ".py",
   "mimetype": "text/x-python",
   "name": "python",
   "nbconvert_exporter": "python",
   "pygments_lexer": "ipython3",
   "version": "3.10.8"
  }
 },
 "nbformat": 4,
 "nbformat_minor": 5
}
